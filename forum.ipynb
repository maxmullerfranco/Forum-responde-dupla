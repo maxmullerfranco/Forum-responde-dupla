{
 "cells": [
  {
   "cell_type": "markdown",
   "metadata": {},
   "source": [
    "Forum: Problema Real:\n",
    "Em um restaurante movimentado, é essencial ter um sistema eficiente para gerenciar os pedidos dos clientes. O processo de coletar os pedidos, encaminhá-los para a cozinha, e entregá-los aos clientes de forma organizada e rápida pode ser um desafio, especialmente durante horários de pico.\n",
    "\n",
    "Solução Proposta:\n",
    "Desenvolveremos um sistema de gerenciamento de pedidos baseado em filas para otimizar o fluxo de trabalho em um restaurante. O sistema permitirá que os garçons insiram os pedidos dos clientes em uma fila, que será processada pela equipe da cozinha de acordo com a ordem de chegada. Além disso, iremos adicionar uma funcionalidade de priorização de pedidos para lidar com situações de urgência ou preferências dos clientes.\n",
    "\n",
    "Implementação:\n",
    "\n",
    "Classe Node: Representa um item na fila de pedidos.\n",
    "Classe Fila: Implementa a estrutura de fila, com os métodos Enqueue, Dequeue, Peek e Display.\n",
    "Nova Funcionalidade: Adicionaremos um método Priorizar na classe Fila, que permitirá aos garçons atribuir prioridade a determinados pedidos, como \"urgente\", \"normal\" ou \"VIP\". Os pedidos prioritários serão tratados com maior rapidez pela equipe da cozinha.\n",
    "Melhoria Significativa: Vamos otimizar o método Display, adicionando uma opção para exibir apenas os pedidos prioritários, facilitando o acompanhamento da equipe da cozinha em momentos de alta demanda."
   ]
  },
  {
   "cell_type": "markdown",
   "metadata": {},
   "source": [
    "No README do repositório, explicaremos detalhadamente o problema do gerenciamento de pedidos em restaurantes, como nossa solução baseada em filas aborda esse problema, e como a nova funcionalidade de priorização e a melhoria no método Display melhoram a eficiência do sistema. Também forneceremos instruções claras sobre como usar nossa implementação da classe Fila para o sistema de gerenciamento de pedidos."
   ]
  },
  {
   "cell_type": "code",
   "execution_count": 247,
   "metadata": {},
   "outputs": [],
   "source": [
    "class Node:\n",
    "    def __init__(self, value, priority=\"normal\"):\n",
    "        self.value = value\n",
    "        self.priority = priority\n",
    "        self.next = None"
   ]
  },
  {
   "cell_type": "code",
   "execution_count": 248,
   "metadata": {},
   "outputs": [],
   "source": [
    "class Queue:\n",
    "    def __init__(self):\n",
    "        self.front = None\n",
    "        self.rear = None\n",
    "    \n",
    "    # Inclusão de elementos na fila\n",
    "    def enqueue(self, value, priority=\"normal\"):\n",
    "        new_node = Node(value, priority)\n",
    "\n",
    "        if self.front == None:\n",
    "            self.front = self.rear = new_node\n",
    "        else:\n",
    "            self.rear.next = new_node\n",
    "            self.rear = new_node\n",
    "\n",
    "    # Remoção de elemento da fila\n",
    "    def dequeue(self):\n",
    "        if self.front == None:\n",
    "            raise Exception(\"Queue is empty\")\n",
    "        temp = self.front\n",
    "        self.front = self.front.next\n",
    "        if self.front == None:\n",
    "            self.rear = None\n",
    "        return temp.value\n",
    "\n",
    "    # Acessa o primeiro elemento da fila\n",
    "    def peek(self):\n",
    "        if self.front == None:\n",
    "            raise Exception(\"Queue is empty\")\n",
    "        return self.front.value\n",
    "    \n",
    "    # Verifica se a fila está vazia\n",
    "    def is_empty(self):\n",
    "        return self.front == None\n",
    "\n",
    "    # Exibe a fila\n",
    "    def display_queue(self, priority=None):\n",
    "        current = self.front\n",
    "        while current != None:\n",
    "            if priority == None or current.priority == priority:\n",
    "                print(f\"Value: {current.value}, Priority: {current.priority}\")\n",
    "            current = current.next\n",
    "\n",
    "    # Prioriza um elemento da fila\n",
    "    def priorizar(self, value, priority=\"Urgente\"):\n",
    "        current = self.front\n",
    "        while current != None:\n",
    "            if current.value == value:\n",
    "                current.priority = priority\n",
    "                return\n",
    "            current = current.next\n",
    "        raise Exception(\"Element not found in queue\")\n",
    "\n",
    "    def remover_elemento(self, value):\n",
    "        # Verifica se a fila está vazia\n",
    "        if self.is_empty():\n",
    "            raise Exception(\"Queue is empty\")\n",
    "\n",
    "        # Verifica se o elemento a ser removido é o primeiro da fila\n",
    "        if self.front.value == value:\n",
    "            self.dequeue()  # Remove o elemento se for o primeiro\n",
    "            return\n",
    "\n",
    "        # Inicializa ponteiros para percorrer a fila\n",
    "        prev = None\n",
    "        current = self.front\n",
    "\n",
    "        # Percorre a fila em busca do elemento a ser removido\n",
    "        while current is not None:\n",
    "            if current.value == value:\n",
    "                break  # Elemento encontrado, sai do loop\n",
    "            prev = current\n",
    "            current = current.next\n",
    "\n",
    "        # Se o elemento não foi encontrado na fila\n",
    "        if current is None:\n",
    "            raise Exception(\"Element not found in queue\")\n",
    "\n",
    "        # Remove o elemento da fila\n",
    "        prev.next = current.next\n",
    "\n",
    "        # Atualiza o ponteiro traseiro se o elemento removido for o último\n",
    "        if current == self.rear:\n",
    "            self.rear = prev\n",
    "\n",
    "        # Libera a memória do nó removido\n",
    "        del current\n",
    "    "
   ]
  },
  {
   "cell_type": "code",
   "execution_count": 249,
   "metadata": {},
   "outputs": [
    {
     "name": "stdout",
     "output_type": "stream",
     "text": [
      "Value: Pedido número 10, mesa 02, Priority: normal\n",
      "Value: Pedido número 07, mesa 05, Priority: normal\n",
      "Value: Pedido número 02, mesa 08, Priority: normal\n"
     ]
    }
   ],
   "source": [
    "# Criando uma nova fila\n",
    "q = Queue()\n",
    "\n",
    "# Adicionando elementos à fila com prioridades\n",
    "q.enqueue(\"Pedido número 10, mesa 02\")\n",
    "q.enqueue(\"Pedido número 07, mesa 05\")\n",
    "q.enqueue(\"Pedido número 02, mesa 08\")\n",
    "\n",
    "# Exibindo a fila com prioridades\n",
    "q.display_queue()"
   ]
  },
  {
   "cell_type": "code",
   "execution_count": 250,
   "metadata": {},
   "outputs": [
    {
     "name": "stdout",
     "output_type": "stream",
     "text": [
      "Value: Pedido número 10, mesa 02, Priority: normal\n",
      "Value: Pedido número 07, mesa 05, Priority: normal\n",
      "Value: Pedido número 02, mesa 08, Priority: normal\n",
      "Value: Pedido cerveja, mesa 08, Priority: normal\n",
      "Value: Pedido creme de morango, mesa 02, Priority: normal\n"
     ]
    }
   ],
   "source": [
    "# Adicionando mais elementos à fila\n",
    "q.enqueue(\"Pedido cerveja, mesa 08\")\n",
    "q.enqueue(\"Pedido creme de morango, mesa 02\")\n",
    "\n",
    "# Exibindo a fila com prioridades\n",
    "q.display_queue()"
   ]
  },
  {
   "cell_type": "code",
   "execution_count": 251,
   "metadata": {},
   "outputs": [
    {
     "name": "stdout",
     "output_type": "stream",
     "text": [
      "Fila após priorizar elemento:\n",
      "Value: Pedido número 10, mesa 02, Priority: normal\n",
      "Value: Pedido número 07, mesa 05, Priority: normal\n",
      "Value: Pedido número 02, mesa 08, Priority: normal\n",
      "Value: Pedido cerveja, mesa 08, Priority: Urgente\n",
      "Value: Pedido creme de morango, mesa 02, Priority: normal\n"
     ]
    }
   ],
   "source": [
    "# Priorizando um elemento da fila\n",
    "q.priorizar(\"Pedido cerveja, mesa 08\")\n",
    "\n",
    "# Exibindo a fila após priorização\n",
    "print(\"Fila após priorizar elemento:\")\n",
    "q.display_queue()"
   ]
  },
  {
   "cell_type": "code",
   "execution_count": 252,
   "metadata": {},
   "outputs": [
    {
     "name": "stdout",
     "output_type": "stream",
     "text": [
      "Fila após remover elementos:\n",
      "Value: Pedido número 10, mesa 02, Priority: normal\n",
      "Value: Pedido número 07, mesa 05, Priority: normal\n",
      "Value: Pedido número 02, mesa 08, Priority: normal\n",
      "Value: Pedido creme de morango, mesa 02, Priority: normal\n"
     ]
    }
   ],
   "source": [
    "# Removendo elementos da fila\n",
    "q.remover_elemento(\"Pedido cerveja, mesa 08\")\n",
    "\n",
    "# Exibindo o estado atual da fila após remoções\n",
    "print(\"Fila após remover elementos:\")\n",
    "q.display_queue()"
   ]
  },
  {
   "cell_type": "code",
   "execution_count": 253,
   "metadata": {},
   "outputs": [
    {
     "name": "stdout",
     "output_type": "stream",
     "text": [
      "A fila não está vazia.\n"
     ]
    }
   ],
   "source": [
    "# Verificando se a fila está vazia\n",
    "if q.is_empty():\n",
    "    print(\"A fila está vazia.\")\n",
    "else:\n",
    "    print(\"A fila não está vazia.\")"
   ]
  },
  {
   "cell_type": "code",
   "execution_count": 254,
   "metadata": {},
   "outputs": [
    {
     "name": "stdout",
     "output_type": "stream",
     "text": [
      "Fila após remover elementos:\n",
      "Value: Pedido creme de morango, mesa 02, Priority: normal\n",
      "A fila não está vazia.\n"
     ]
    }
   ],
   "source": [
    "# Removendo elementos da fila\n",
    "q.dequeue()\n",
    "q.dequeue()\n",
    "q.dequeue()\n",
    "\n",
    "# Exibindo o estado atual da fila após remoções\n",
    "print(\"Fila após remover elementos:\")\n",
    "q.display_queue()\n",
    "\n",
    "# Verificando se a fila está vazia\n",
    "if q.is_empty():\n",
    "    print(\"A fila está vazia.\")\n",
    "else:\n",
    "    print(\"A fila não está vazia.\")"
   ]
  },
  {
   "cell_type": "code",
   "execution_count": 255,
   "metadata": {},
   "outputs": [
    {
     "name": "stdout",
     "output_type": "stream",
     "text": [
      "A fila está vazia.\n"
     ]
    }
   ],
   "source": [
    "# Removendo elementos da fila\n",
    "q.dequeue()\n",
    "\n",
    "# Verificando se a fila está vazia\n",
    "if q.is_empty():\n",
    "    print(\"A fila está vazia.\")\n",
    "else:\n",
    "    print(\"A fila não está vazia.\")"
   ]
  }
 ],
 "metadata": {
  "kernelspec": {
   "display_name": "Python 3",
   "language": "python",
   "name": "python3"
  },
  "language_info": {
   "codemirror_mode": {
    "name": "ipython",
    "version": 3
   },
   "file_extension": ".py",
   "mimetype": "text/x-python",
   "name": "python",
   "nbconvert_exporter": "python",
   "pygments_lexer": "ipython3",
   "version": "3.12.2"
  }
 },
 "nbformat": 4,
 "nbformat_minor": 2
}
